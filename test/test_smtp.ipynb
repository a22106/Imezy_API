{
 "cells": [
  {
   "cell_type": "code",
   "execution_count": 4,
   "metadata": {},
   "outputs": [],
   "source": [
    "import smtplib\n",
    "from email.mime.text import MIMEText\n",
    "import sys, os\n",
    "\n",
    "def send_setting(email:str, password:str, type:str = None):\n",
    "    '''\n",
    "    args:\n",
    "        type: smtp type(eg: gmail, naver)\n",
    "        email: email address\n",
    "        password: email password\n",
    "    '''\n",
    "    mail_type = None\n",
    "    port = 587\n",
    "    \n",
    "    if type is None:\n",
    "        mail_type = 'smtp.gmail.com'\n",
    "    elif type == 'mailplug':\n",
    "        mail_type = 'smtp.mailplug.co.kr'\n",
    "        port = 465\n",
    "    else:\n",
    "        mail_type = f'smtp.{type}.com'\n",
    "    \n",
    "    print(f\"mail type: {mail_type}, port: {port}\")\n",
    "    # smtp server connect\n",
    "    smtp = smtplib.SMTP_SSL(mail_type, port)\n",
    "    smtp.set_debuglevel(True)\n",
    "    \n",
    "    # SMTP AUTH LOGIN\n",
    "    # smtp.ehlo()\n",
    "    # smtp.starttls()\n",
    "    print(\"login\")\n",
    "    smtp.login(email, password)\n",
    "    \n",
    "    return smtp\n",
    "    \n",
    "def send_plain_email(smtp, sender, receiver,subject, content, email, password):\n",
    "    # try:\n",
    "    # smtp = send_setting(email, password)\n",
    "    \n",
    "    msg = MIMEText(content)\n",
    "    msg['Subject'] = subject\n",
    "    msg['From'] = sender\n",
    "    msg['To'] = receiver\n",
    "    \n",
    "    # send email\n",
    "    smtp.sendmail(sender, receiver, msg.as_string())\n",
    "    # except Exception as e:\n",
    "    #     print('error', e)\n",
    "    # finally:\n",
    "    #     if smtp is not None:\n",
    "    #         smtp.quit()"
   ]
  },
  {
   "cell_type": "code",
   "execution_count": 5,
   "metadata": {},
   "outputs": [
    {
     "name": "stdout",
     "output_type": "stream",
     "text": [
      "smtp.mailplug.co.kr 465\n",
      "login\n"
     ]
    },
    {
     "name": "stderr",
     "output_type": "stream",
     "text": [
      "send: 'ehlo [192.168.0.100]\\r\\n'\n",
      "reply: b'250-sslauth50\\r\\n'\n",
      "reply: b'250-STARTTLS\\r\\n'\n",
      "reply: b'250-AUTH LOGIN PLAIN\\r\\n'\n",
      "reply: b'250-AUTH=LOGIN PLAIN\\r\\n'\n",
      "reply: b'250-PIPELINING\\r\\n'\n",
      "reply: b'250-8BITMIME\\r\\n'\n",
      "reply: b'250 AUTH PLAIN LOGIN\\r\\n'\n",
      "reply: retcode (250); Msg: b'sslauth50\\nSTARTTLS\\nAUTH LOGIN PLAIN\\nAUTH=LOGIN PLAIN\\nPIPELINING\\n8BITMIME\\nAUTH PLAIN LOGIN'\n",
      "send: 'AUTH PLAIN AGFkbWluMUBhaXZpbGwuY28ua3IAYWl2aWxs\\r\\n'\n",
      "reply: b'535 5.7.0 553 sorry, that password allowed relay (#5.7.5)\\r\\n'\n",
      "reply: retcode (535); Msg: b'5.7.0 553 sorry, that password allowed relay (#5.7.5)'\n",
      "send: 'AUTH LOGIN YWRtaW4xQGFpdmlsbC5jby5rcg==\\r\\n'\n"
     ]
    },
    {
     "ename": "SMTPServerDisconnected",
     "evalue": "Connection unexpectedly closed",
     "output_type": "error",
     "traceback": [
      "\u001b[0;31m---------------------------------------------------------------------------\u001b[0m",
      "\u001b[0;31mSMTPServerDisconnected\u001b[0m                    Traceback (most recent call last)",
      "Cell \u001b[0;32mIn [5], line 3\u001b[0m\n\u001b[1;32m      1\u001b[0m sender, receiver \u001b[39m=\u001b[39m \u001b[39m\"\u001b[39m\u001b[39madmin1@aivill.co.kr\u001b[39m\u001b[39m\"\u001b[39m, \u001b[39m\"\u001b[39m\u001b[39mbk22106@gmail.com\u001b[39m\u001b[39m\"\u001b[39m\n\u001b[1;32m      2\u001b[0m pw \u001b[39m=\u001b[39m \u001b[39m\"\u001b[39m\u001b[39maivill\u001b[39m\u001b[39m\"\u001b[39m\n\u001b[0;32m----> 3\u001b[0m smtp \u001b[39m=\u001b[39m send_setting(email\u001b[39m=\u001b[39;49msender, password\u001b[39m=\u001b[39;49mpw, \u001b[39mtype\u001b[39;49m\u001b[39m=\u001b[39;49m\u001b[39m'\u001b[39;49m\u001b[39mmailplug\u001b[39;49m\u001b[39m'\u001b[39;49m)\n\u001b[1;32m      4\u001b[0m send_plain_email(smtp, sender, receiver, \u001b[39m\"\u001b[39m\u001b[39mtest\u001b[39m\u001b[39m\"\u001b[39m, \u001b[39m\"\u001b[39m\u001b[39mtest\u001b[39m\u001b[39m\"\u001b[39m, sender, pw)\n",
      "Cell \u001b[0;32mIn [4], line 32\u001b[0m, in \u001b[0;36msend_setting\u001b[0;34m(email, password, type)\u001b[0m\n\u001b[1;32m     28\u001b[0m \u001b[39m# SMTP AUTH LOGIN\u001b[39;00m\n\u001b[1;32m     29\u001b[0m \u001b[39m# smtp.ehlo()\u001b[39;00m\n\u001b[1;32m     30\u001b[0m \u001b[39m# smtp.starttls()\u001b[39;00m\n\u001b[1;32m     31\u001b[0m \u001b[39mprint\u001b[39m(\u001b[39m\"\u001b[39m\u001b[39mlogin\u001b[39m\u001b[39m\"\u001b[39m)\n\u001b[0;32m---> 32\u001b[0m smtp\u001b[39m.\u001b[39;49mlogin(email, password)\n\u001b[1;32m     34\u001b[0m \u001b[39mreturn\u001b[39;00m smtp\n",
      "File \u001b[0;32m~/anaconda3/envs/pius310/lib/python3.10/smtplib.py:739\u001b[0m, in \u001b[0;36mSMTP.login\u001b[0;34m(self, user, password, initial_response_ok)\u001b[0m\n\u001b[1;32m    737\u001b[0m method_name \u001b[39m=\u001b[39m \u001b[39m'\u001b[39m\u001b[39mauth_\u001b[39m\u001b[39m'\u001b[39m \u001b[39m+\u001b[39m authmethod\u001b[39m.\u001b[39mlower()\u001b[39m.\u001b[39mreplace(\u001b[39m'\u001b[39m\u001b[39m-\u001b[39m\u001b[39m'\u001b[39m, \u001b[39m'\u001b[39m\u001b[39m_\u001b[39m\u001b[39m'\u001b[39m)\n\u001b[1;32m    738\u001b[0m \u001b[39mtry\u001b[39;00m:\n\u001b[0;32m--> 739\u001b[0m     (code, resp) \u001b[39m=\u001b[39m \u001b[39mself\u001b[39;49m\u001b[39m.\u001b[39;49mauth(\n\u001b[1;32m    740\u001b[0m         authmethod, \u001b[39mgetattr\u001b[39;49m(\u001b[39mself\u001b[39;49m, method_name),\n\u001b[1;32m    741\u001b[0m         initial_response_ok\u001b[39m=\u001b[39;49minitial_response_ok)\n\u001b[1;32m    742\u001b[0m     \u001b[39m# 235 == 'Authentication successful'\u001b[39;00m\n\u001b[1;32m    743\u001b[0m     \u001b[39m# 503 == 'Error: already authenticated'\u001b[39;00m\n\u001b[1;32m    744\u001b[0m     \u001b[39mif\u001b[39;00m code \u001b[39min\u001b[39;00m (\u001b[39m235\u001b[39m, \u001b[39m503\u001b[39m):\n",
      "File \u001b[0;32m~/anaconda3/envs/pius310/lib/python3.10/smtplib.py:642\u001b[0m, in \u001b[0;36mSMTP.auth\u001b[0;34m(self, mechanism, authobject, initial_response_ok)\u001b[0m\n\u001b[1;32m    640\u001b[0m \u001b[39mif\u001b[39;00m initial_response \u001b[39mis\u001b[39;00m \u001b[39mnot\u001b[39;00m \u001b[39mNone\u001b[39;00m:\n\u001b[1;32m    641\u001b[0m     response \u001b[39m=\u001b[39m encode_base64(initial_response\u001b[39m.\u001b[39mencode(\u001b[39m'\u001b[39m\u001b[39mascii\u001b[39m\u001b[39m'\u001b[39m), eol\u001b[39m=\u001b[39m\u001b[39m'\u001b[39m\u001b[39m'\u001b[39m)\n\u001b[0;32m--> 642\u001b[0m     (code, resp) \u001b[39m=\u001b[39m \u001b[39mself\u001b[39;49m\u001b[39m.\u001b[39;49mdocmd(\u001b[39m\"\u001b[39;49m\u001b[39mAUTH\u001b[39;49m\u001b[39m\"\u001b[39;49m, mechanism \u001b[39m+\u001b[39;49m \u001b[39m\"\u001b[39;49m\u001b[39m \u001b[39;49m\u001b[39m\"\u001b[39;49m \u001b[39m+\u001b[39;49m response)\n\u001b[1;32m    643\u001b[0m     \u001b[39mself\u001b[39m\u001b[39m.\u001b[39m_auth_challenge_count \u001b[39m=\u001b[39m \u001b[39m1\u001b[39m\n\u001b[1;32m    644\u001b[0m \u001b[39melse\u001b[39;00m:\n",
      "File \u001b[0;32m~/anaconda3/envs/pius310/lib/python3.10/smtplib.py:432\u001b[0m, in \u001b[0;36mSMTP.docmd\u001b[0;34m(self, cmd, args)\u001b[0m\n\u001b[1;32m    430\u001b[0m \u001b[39m\"\"\"Send a command, and return its response code.\"\"\"\u001b[39;00m\n\u001b[1;32m    431\u001b[0m \u001b[39mself\u001b[39m\u001b[39m.\u001b[39mputcmd(cmd, args)\n\u001b[0;32m--> 432\u001b[0m \u001b[39mreturn\u001b[39;00m \u001b[39mself\u001b[39;49m\u001b[39m.\u001b[39;49mgetreply()\n",
      "File \u001b[0;32m~/anaconda3/envs/pius310/lib/python3.10/smtplib.py:405\u001b[0m, in \u001b[0;36mSMTP.getreply\u001b[0;34m(self)\u001b[0m\n\u001b[1;32m    403\u001b[0m \u001b[39mif\u001b[39;00m \u001b[39mnot\u001b[39;00m line:\n\u001b[1;32m    404\u001b[0m     \u001b[39mself\u001b[39m\u001b[39m.\u001b[39mclose()\n\u001b[0;32m--> 405\u001b[0m     \u001b[39mraise\u001b[39;00m SMTPServerDisconnected(\u001b[39m\"\u001b[39m\u001b[39mConnection unexpectedly closed\u001b[39m\u001b[39m\"\u001b[39m)\n\u001b[1;32m    406\u001b[0m \u001b[39mif\u001b[39;00m \u001b[39mself\u001b[39m\u001b[39m.\u001b[39mdebuglevel \u001b[39m>\u001b[39m \u001b[39m0\u001b[39m:\n\u001b[1;32m    407\u001b[0m     \u001b[39mself\u001b[39m\u001b[39m.\u001b[39m_print_debug(\u001b[39m'\u001b[39m\u001b[39mreply:\u001b[39m\u001b[39m'\u001b[39m, \u001b[39mrepr\u001b[39m(line))\n",
      "\u001b[0;31mSMTPServerDisconnected\u001b[0m: Connection unexpectedly closed"
     ]
    }
   ],
   "source": [
    "sender, receiver = \"admin1@aivill.co.kr\", \"bk22106@gmail.com\"\n",
    "pw = \"aivill\"\n",
    "smtp = send_setting(email=sender, password=pw, type='mailplug')\n",
    "send_plain_email(smtp, sender, receiver, \"test\", \"test\", sender, pw)"
   ]
  }
 ],
 "metadata": {
  "kernelspec": {
   "display_name": "pius310",
   "language": "python",
   "name": "python3"
  },
  "language_info": {
   "codemirror_mode": {
    "name": "ipython",
    "version": 3
   },
   "file_extension": ".py",
   "mimetype": "text/x-python",
   "name": "python",
   "nbconvert_exporter": "python",
   "pygments_lexer": "ipython3",
   "version": "3.10.8"
  },
  "orig_nbformat": 4,
  "vscode": {
   "interpreter": {
    "hash": "48ca3073c5549c1ccf4f4a58b2740315d5bce04ee37289cb933f5ff9b483ac6d"
   }
  }
 },
 "nbformat": 4,
 "nbformat_minor": 2
}
