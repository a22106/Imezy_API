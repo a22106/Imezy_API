{
 "cells": [
  {
   "cell_type": "code",
   "execution_count": 11,
   "metadata": {},
   "outputs": [],
   "source": [
    "import smtplib\n",
    "from email.mime.text import MIMEText\n",
    "import sys, os\n",
    "\n",
    "def send_setting(email:str, password:str, type:str = None):\n",
    "    '''\n",
    "    args:\n",
    "        type: smtp type(eg: gmail, naver)\n",
    "        email: email address\n",
    "        password: email password\n",
    "    '''\n",
    "    mail_type = None\n",
    "    port = 587\n",
    "    \n",
    "    if type is None:\n",
    "        mail_type = 'smtp.gmail.com'\n",
    "    elif type == 'mailplug':\n",
    "        mail_type = 'smtp.mailplug.co.kr'\n",
    "        port = 465\n",
    "    else:\n",
    "        mail_type = f'smtp.{type}.com'\n",
    "    \n",
    "    # smtp server connect\n",
    "    smtp = smtplib.SMTP(mail_type, port)\n",
    "    smtp.set_debuglevel(True)\n",
    "    \n",
    "    # SMTP AUTH LOGIN\n",
    "    smtp.ehlo()\n",
    "    smtp.starttls()\n",
    "    smtp.login(email, password)\n",
    "    \n",
    "    return smtp\n",
    "    \n",
    "def send_plain_email(smtp, sender, receiver,subject, content, email, password):\n",
    "    # try:\n",
    "    smtp = send_setting(email, password)\n",
    "    \n",
    "    msg = MIMEText(content)\n",
    "    msg['Subject'] = subject\n",
    "    msg['From'] = sender\n",
    "    msg['To'] = receiver\n",
    "    \n",
    "    # send email\n",
    "    smtp.sendmail(sender, receiver, msg.as_string())\n",
    "    # except Exception as e:\n",
    "    #     print('error', e)\n",
    "    # finally:\n",
    "    #     if smtp is not None:\n",
    "    #         smtp.quit()"
   ]
  },
  {
   "cell_type": "code",
   "execution_count": 12,
   "metadata": {},
   "outputs": [
    {
     "name": "stderr",
     "output_type": "stream",
     "text": [
      "send: 'ehlo [192.168.0.100]\\r\\n'\n",
      "reply: b'250-smtp.gmail.com at your service, [133.186.213.110]\\r\\n'\n",
      "reply: b'250-SIZE 35882577\\r\\n'\n",
      "reply: b'250-8BITMIME\\r\\n'\n",
      "reply: b'250-STARTTLS\\r\\n'\n",
      "reply: b'250-ENHANCEDSTATUSCODES\\r\\n'\n",
      "reply: b'250-PIPELINING\\r\\n'\n",
      "reply: b'250-CHUNKING\\r\\n'\n",
      "reply: b'250 SMTPUTF8\\r\\n'\n",
      "reply: retcode (250); Msg: b'smtp.gmail.com at your service, [133.186.213.110]\\nSIZE 35882577\\n8BITMIME\\nSTARTTLS\\nENHANCEDSTATUSCODES\\nPIPELINING\\nCHUNKING\\nSMTPUTF8'\n",
      "send: 'STARTTLS\\r\\n'\n",
      "reply: b'220 2.0.0 Ready to start TLS\\r\\n'\n",
      "reply: retcode (220); Msg: b'2.0.0 Ready to start TLS'\n",
      "send: 'ehlo [192.168.0.100]\\r\\n'\n",
      "reply: b'250-smtp.gmail.com at your service, [133.186.213.110]\\r\\n'\n",
      "reply: b'250-SIZE 35882577\\r\\n'\n",
      "reply: b'250-8BITMIME\\r\\n'\n",
      "reply: b'250-AUTH LOGIN PLAIN XOAUTH2 PLAIN-CLIENTTOKEN OAUTHBEARER XOAUTH\\r\\n'\n",
      "reply: b'250-ENHANCEDSTATUSCODES\\r\\n'\n",
      "reply: b'250-PIPELINING\\r\\n'\n",
      "reply: b'250-CHUNKING\\r\\n'\n",
      "reply: b'250 SMTPUTF8\\r\\n'\n",
      "reply: retcode (250); Msg: b'smtp.gmail.com at your service, [133.186.213.110]\\nSIZE 35882577\\n8BITMIME\\nAUTH LOGIN PLAIN XOAUTH2 PLAIN-CLIENTTOKEN OAUTHBEARER XOAUTH\\nENHANCEDSTATUSCODES\\nPIPELINING\\nCHUNKING\\nSMTPUTF8'\n",
      "send: 'AUTH PLAIN AGJrMjIxMDZAYWl2aWxsLmNvLmtyAGZwM3ozOEBA\\r\\n'\n",
      "reply: b'534-5.7.9 Please log in with your web browser and then try again. Learn more at\\r\\n'\n",
      "reply: b'534 5.7.9  https://support.google.com/mail/?p=WebLoginRequired y10-20020a62640a000000b00582579cb0e0sm7470366pfb.129 - gsmtp\\r\\n'\n",
      "reply: retcode (534); Msg: b'5.7.9 Please log in with your web browser and then try again. Learn more at\\n5.7.9  https://support.google.com/mail/?p=WebLoginRequired y10-20020a62640a000000b00582579cb0e0sm7470366pfb.129 - gsmtp'\n",
      "send: 'AUTH LOGIN YmsyMjEwNkBhaXZpbGwuY28ua3I=\\r\\n'\n",
      "reply: b'334 UGFzc3dvcmQ6\\r\\n'\n",
      "reply: retcode (334); Msg: b'UGFzc3dvcmQ6'\n",
      "send: 'ZnAzejM4QEA=\\r\\n'\n",
      "reply: b'534-5.7.9 Please log in with your web browser and then try again. Learn more at\\r\\n'\n",
      "reply: b'534 5.7.9  https://support.google.com/mail/?p=WebLoginRequired y10-20020a62640a000000b00582579cb0e0sm7470366pfb.129 - gsmtp\\r\\n'\n",
      "reply: retcode (534); Msg: b'5.7.9 Please log in with your web browser and then try again. Learn more at\\n5.7.9  https://support.google.com/mail/?p=WebLoginRequired y10-20020a62640a000000b00582579cb0e0sm7470366pfb.129 - gsmtp'\n"
     ]
    },
    {
     "ename": "SMTPAuthenticationError",
     "evalue": "(534, b'5.7.9 Please log in with your web browser and then try again. Learn more at\\n5.7.9  https://support.google.com/mail/?p=WebLoginRequired y10-20020a62640a000000b00582579cb0e0sm7470366pfb.129 - gsmtp')",
     "output_type": "error",
     "traceback": [
      "\u001b[0;31m---------------------------------------------------------------------------\u001b[0m",
      "\u001b[0;31mSMTPAuthenticationError\u001b[0m                   Traceback (most recent call last)",
      "Cell \u001b[0;32mIn [12], line 2\u001b[0m\n\u001b[1;32m      1\u001b[0m sender, receiver \u001b[39m=\u001b[39m \u001b[39m\"\u001b[39m\u001b[39mbk22106@aivill.co.kr\u001b[39m\u001b[39m\"\u001b[39m, \u001b[39m\"\u001b[39m\u001b[39mbk22106@gmail.com\u001b[39m\u001b[39m\"\u001b[39m\n\u001b[0;32m----> 2\u001b[0m send_plain_email(sender\u001b[39m=\u001b[39;49msender, receiver\u001b[39m=\u001b[39;49mreceiver, subject\u001b[39m=\u001b[39;49m\u001b[39m\"\u001b[39;49m\u001b[39mtest\u001b[39;49m\u001b[39m\"\u001b[39;49m, content\u001b[39m=\u001b[39;49m\u001b[39m\"\u001b[39;49m\u001b[39mtest\u001b[39;49m\u001b[39m\"\u001b[39;49m, email\u001b[39m=\u001b[39;49msender, password\u001b[39m=\u001b[39;49m\u001b[39m\"\u001b[39;49m\u001b[39mfp3z38@@\u001b[39;49m\u001b[39m\"\u001b[39;49m)\n",
      "Cell \u001b[0;32mIn [11], line 33\u001b[0m, in \u001b[0;36msend_plain_email\u001b[0;34m(sender, receiver, subject, content, email, password)\u001b[0m\n\u001b[1;32m     31\u001b[0m \u001b[39mdef\u001b[39;00m \u001b[39msend_plain_email\u001b[39m(sender, receiver,subject, content, email, password):\n\u001b[1;32m     32\u001b[0m     \u001b[39m# try:\u001b[39;00m\n\u001b[0;32m---> 33\u001b[0m     smtp \u001b[39m=\u001b[39m send_setting(email, password)\n\u001b[1;32m     35\u001b[0m     msg \u001b[39m=\u001b[39m MIMEText(content)\n\u001b[1;32m     36\u001b[0m     msg[\u001b[39m'\u001b[39m\u001b[39mSubject\u001b[39m\u001b[39m'\u001b[39m] \u001b[39m=\u001b[39m subject\n",
      "Cell \u001b[0;32mIn [11], line 27\u001b[0m, in \u001b[0;36msend_setting\u001b[0;34m(email, password, type)\u001b[0m\n\u001b[1;32m     25\u001b[0m smtp\u001b[39m.\u001b[39mehlo()\n\u001b[1;32m     26\u001b[0m smtp\u001b[39m.\u001b[39mstarttls()\n\u001b[0;32m---> 27\u001b[0m smtp\u001b[39m.\u001b[39;49mlogin(email, password)\n\u001b[1;32m     29\u001b[0m \u001b[39mreturn\u001b[39;00m smtp\n",
      "File \u001b[0;32m~/anaconda3/envs/pius310/lib/python3.10/smtplib.py:750\u001b[0m, in \u001b[0;36mSMTP.login\u001b[0;34m(self, user, password, initial_response_ok)\u001b[0m\n\u001b[1;32m    747\u001b[0m         last_exception \u001b[39m=\u001b[39m e\n\u001b[1;32m    749\u001b[0m \u001b[39m# We could not login successfully.  Return result of last attempt.\u001b[39;00m\n\u001b[0;32m--> 750\u001b[0m \u001b[39mraise\u001b[39;00m last_exception\n",
      "File \u001b[0;32m~/anaconda3/envs/pius310/lib/python3.10/smtplib.py:739\u001b[0m, in \u001b[0;36mSMTP.login\u001b[0;34m(self, user, password, initial_response_ok)\u001b[0m\n\u001b[1;32m    737\u001b[0m method_name \u001b[39m=\u001b[39m \u001b[39m'\u001b[39m\u001b[39mauth_\u001b[39m\u001b[39m'\u001b[39m \u001b[39m+\u001b[39m authmethod\u001b[39m.\u001b[39mlower()\u001b[39m.\u001b[39mreplace(\u001b[39m'\u001b[39m\u001b[39m-\u001b[39m\u001b[39m'\u001b[39m, \u001b[39m'\u001b[39m\u001b[39m_\u001b[39m\u001b[39m'\u001b[39m)\n\u001b[1;32m    738\u001b[0m \u001b[39mtry\u001b[39;00m:\n\u001b[0;32m--> 739\u001b[0m     (code, resp) \u001b[39m=\u001b[39m \u001b[39mself\u001b[39;49m\u001b[39m.\u001b[39;49mauth(\n\u001b[1;32m    740\u001b[0m         authmethod, \u001b[39mgetattr\u001b[39;49m(\u001b[39mself\u001b[39;49m, method_name),\n\u001b[1;32m    741\u001b[0m         initial_response_ok\u001b[39m=\u001b[39;49minitial_response_ok)\n\u001b[1;32m    742\u001b[0m     \u001b[39m# 235 == 'Authentication successful'\u001b[39;00m\n\u001b[1;32m    743\u001b[0m     \u001b[39m# 503 == 'Error: already authenticated'\u001b[39;00m\n\u001b[1;32m    744\u001b[0m     \u001b[39mif\u001b[39;00m code \u001b[39min\u001b[39;00m (\u001b[39m235\u001b[39m, \u001b[39m503\u001b[39m):\n",
      "File \u001b[0;32m~/anaconda3/envs/pius310/lib/python3.10/smtplib.py:662\u001b[0m, in \u001b[0;36mSMTP.auth\u001b[0;34m(self, mechanism, authobject, initial_response_ok)\u001b[0m\n\u001b[1;32m    660\u001b[0m \u001b[39mif\u001b[39;00m code \u001b[39min\u001b[39;00m (\u001b[39m235\u001b[39m, \u001b[39m503\u001b[39m):\n\u001b[1;32m    661\u001b[0m     \u001b[39mreturn\u001b[39;00m (code, resp)\n\u001b[0;32m--> 662\u001b[0m \u001b[39mraise\u001b[39;00m SMTPAuthenticationError(code, resp)\n",
      "\u001b[0;31mSMTPAuthenticationError\u001b[0m: (534, b'5.7.9 Please log in with your web browser and then try again. Learn more at\\n5.7.9  https://support.google.com/mail/?p=WebLoginRequired y10-20020a62640a000000b00582579cb0e0sm7470366pfb.129 - gsmtp')"
     ]
    }
   ],
   "source": [
    "sender, receiver = \"bk22106@aivill.co.kr\", \"bk22106@gmail.com\"\n",
    "send_plain_email(sender=sender, receiver=receiver, subject=\"test\", content=\"test\", email=sender, password=\"fp3z38@@\")"
   ]
  }
 ],
 "metadata": {
  "kernelspec": {
   "display_name": "pius310",
   "language": "python",
   "name": "python3"
  },
  "language_info": {
   "codemirror_mode": {
    "name": "ipython",
    "version": 3
   },
   "file_extension": ".py",
   "mimetype": "text/x-python",
   "name": "python",
   "nbconvert_exporter": "python",
   "pygments_lexer": "ipython3",
   "version": "3.10.8"
  },
  "orig_nbformat": 4,
  "vscode": {
   "interpreter": {
    "hash": "48ca3073c5549c1ccf4f4a58b2740315d5bce04ee37289cb933f5ff9b483ac6d"
   }
  }
 },
 "nbformat": 4,
 "nbformat_minor": 2
}
