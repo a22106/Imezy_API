{
 "cells": [
  {
   "cell_type": "code",
   "execution_count": 19,
   "metadata": {},
   "outputs": [],
   "source": [
    "import os\n",
    "import openai\n",
    "import subprocess\n",
    "import requests\n",
    "from typing import List, Optional\n",
    "from pprint import pprint\n",
    "\n",
    "API_KEY = os.getenv(\"OPENAI_API_KEY\")\n",
    "GPT_MODEL = [\"text-davinci-003\"]\n",
    "\n",
    "def print_response(response):\n",
    "    if response.status_code == 200:\n",
    "        print(response.json())\n",
    "        return response.json()\n",
    "    else:\n",
    "        error = response.json()\n",
    "        print(f\"Error: {error['error']}\")\n",
    "        return error\n"
   ]
  },
  {
   "attachments": {},
   "cell_type": "markdown",
   "metadata": {},
   "source": [
    "## Create completion\n",
    "- DOC url: https://platform.openai.com/docs/api-reference/completions/create"
   ]
  },
  {
   "attachments": {},
   "cell_type": "markdown",
   "metadata": {},
   "source": [
    "# Making requests"
   ]
  },
  {
   "cell_type": "code",
   "execution_count": 22,
   "metadata": {},
   "outputs": [],
   "source": [
    "headers = {\n",
    "    \"Content-Type\": \"application/json\",\n",
    "    \"Authorization\": f\"Bearer {API_KEY}\",\n",
    "}\n",
    "\n",
    "response = requests.post(\"https://api.openai.com/v1/completions\", \\\n",
    "    headers=headers, json={\n",
    "        \"model\": \"text-davinci-003\",\n",
    "        \"prompt\": \"Say this is a test\",\n",
    "        \"temperature\": 0.2,\n",
    "        \"max_tokens\": 1000\n",
    "    }\n",
    ")\n",
    "\n",
    "def create_completion(prompt:str, suffix:str, model: str = \"text-davinci-003\", max_tokens:int = 500, temperature:float = 0, stream: bool = False, echo: bool = False):\n",
    "    response = requests.post(\"https://api.openai.com/v1/completions\", \\\n",
    "        headers=headers, json={\n",
    "            \"model\": model,\n",
    "            \"prompt\": prompt,\n",
    "            \"temperature\": temperature,\n",
    "            \"max_tokens\": max_tokens,\n",
    "            \"stream\": stream,\n",
    "            \"echo\": echo,\n",
    "            \"stop\": suffix\n",
    "        }\n",
    "    )\n",
    "    return response\n",
    "    \n",
    "def edit_prompt(instruction: str, input: Optional[str] = None, model: str = \"text-davinci-edit-001\", num: int = 1, temperature: float = 0.5):\n",
    "    response = requests.post(\"https://api.openai.com/v1/edits\", \\\n",
    "        headers=headers, json={\n",
    "            \"model\": model,\n",
    "            \"input\": input,\n",
    "            \"instruction\": instruction,\n",
    "            \"num\": num,\n",
    "            \"temperature\": temperature\n",
    "        }\n",
    "    )\n",
    "    return response"
   ]
  },
  {
   "attachments": {},
   "cell_type": "markdown",
   "metadata": {},
   "source": [
    "## load kr_common"
   ]
  },
  {
   "cell_type": "code",
   "execution_count": 23,
   "metadata": {},
   "outputs": [
    {
     "name": "stdout",
     "output_type": "stream",
     "text": [
      "dict_keys(['landing', 'commonErrors', 'buttons', 'navbar', 'generate-page', 'upscaler', 'purchase', 'lg-profile', 'lg-payments', 'settings', 'feedback', 'sm-profile', 'sm-payments', 'sm-settings', 'sm-security', 'footer', 'login', 'signup', 'successfull', 'verification'])\n",
      "\n",
      "prompt 0: {'quote': 'Imagine and generate your own images!'}\n",
      "\n",
      "Error: {'message': 'Invalid URL (POST /v1/edits)', 'type': 'invalid_request_error', 'param': None, 'code': None}\n",
      "prompt 1: {'server': 'Server responds with error! Please try again.', 'unknown': 'Something wrong happened. Please try again.', 'session': {'top': 'Sesson timeout', 'message': 'Your session is over please login again.'}, 'notVerified': 'Please verify your email before generating images.', 'notEnoughCredits': {'message': 'Not Enough Credits', 'description': 'You don`t have enough credits to generate images, please buy credits.'}}\n",
      "\n",
      "Error: {'message': 'Invalid URL (POST /v1/edits)', 'type': 'invalid_request_error', 'param': None, 'code': None}\n",
      "prompt 2: {'generate': 'Generate', 'suggestion': 'Presets', 'prompt': 'Prompt', 'generating': 'Generating...'}\n",
      "\n",
      "Error: {'message': 'Invalid URL (POST /v1/edits)', 'type': 'invalid_request_error', 'param': None, 'code': None}\n",
      "prompt 3: {'Generate Images': 'Generate Images', 'Upscaler': 'Upscaler', 'dropdown': {'credits': 'Credits', 'more-credits': 'Get More Credits', 'profile': 'My profile/My gallary', 'about': 'About ImEzy', 'feedback': 'Feedback/Support', 'terms': 'Terms of service', 'logout': 'Log out', 'text': 'Generate with text', 'text+img': 'Generate with base image'}, 'login': 'Sign in', 'signup': 'Sign up', 'notVerified': 'Your account email is not verified. Please verify it.', 'click': 'Click here'}\n",
      "\n",
      "Error: {'message': 'Invalid URL (POST /v1/edits)', 'type': 'invalid_request_error', 'param': None, 'code': None}\n"
     ]
    }
   ],
   "source": [
    "import json\n",
    "\n",
    "with open(\"./test/kr_common.json\", \"r\") as f:\n",
    "    kr_common = json.load(f)\n",
    "pprint(kr_common.keys())\n",
    "print()\n",
    "\n",
    "# for key in kr_common.keys():\n",
    "#     print(f\"{key}: {kr_common[key]}\", end=\"\\n\\n\")\n",
    "    \n",
    "for i in range(len(kr_common.keys())):\n",
    "    print(f\"prompt {i}: {kr_common[list(kr_common.keys())[i]]}\", end=\"\\n\\n\")\n",
    "    \n",
    "    # translate each values of the dictionary to Korean from English\n",
    "    res = edit_prompt(instruction=\"translate each values of the dictionary to Korean from English\", input=f\"{kr_common[list(kr_common.keys())[i]]}\", model=\"text-davinci-003\", num=1, temperature=0.5)\n",
    "    \n",
    "    print_response(res)\n",
    "    \n",
    "    if i ==3:\n",
    "        break"
   ]
  }
 ],
 "metadata": {
  "kernelspec": {
   "display_name": "imezy310",
   "language": "python",
   "name": "python3"
  },
  "language_info": {
   "codemirror_mode": {
    "name": "ipython",
    "version": 3
   },
   "file_extension": ".py",
   "mimetype": "text/x-python",
   "name": "python",
   "nbconvert_exporter": "python",
   "pygments_lexer": "ipython3",
   "version": "3.10.9"
  },
  "orig_nbformat": 4,
  "vscode": {
   "interpreter": {
    "hash": "52f7a0d066df59d9a6456dd3e1fe0c99c800b0fde99579ffc1629528aaf75ba1"
   }
  }
 },
 "nbformat": 4,
 "nbformat_minor": 2
}
