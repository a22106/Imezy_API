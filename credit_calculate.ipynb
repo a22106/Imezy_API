{
 "cells": [
  {
   "cell_type": "code",
   "execution_count": 30,
   "metadata": {},
   "outputs": [],
   "source": [
    "DEFAULT = 10\n",
    "CREDITS_INC_DEFAULT = 5\n",
    "WIDTH_DEFAULT, HEIGHT_DEFAULT, RESOLUTION_INC = 512, 512, 256\n",
    "SETPS_DEFAULT, STEPS_INC = 30, 15\n",
    "\n",
    "\n",
    "def get_zero(current_value, default_value):\n",
    "    if (current_value -default_value) < 0:\n",
    "        return 0\n",
    "    return (current_value -default_value)\n",
    "\n"
   ]
  },
  {
   "cell_type": "code",
   "execution_count": 34,
   "metadata": {},
   "outputs": [
    {
     "data": {
      "text/plain": [
       "15"
      ]
     },
     "execution_count": 34,
     "metadata": {},
     "output_type": "execute_result"
    }
   ],
   "source": [
    "height_cur, width_cur = 512, 512\n",
    "restore_face = 0\n",
    "steps_cur = 30\n",
    "\n",
    "value = DEFAULT + (get_zero(height_cur+width_cur, HEIGHT_DEFAULT+WIDTH_DEFAULT)) // RESOLUTION_INC * CREDITS_INC_DEFAULT \\\n",
    "        + restore_face *CREDITS_INC_DEFAULT \\\n",
    "        + get_zero(steps_cur, SETPS_DEFAULT)// STEPS_INC * CREDITS_INC_DEFAULT\n",
    "\n",
    "value"
   ]
  }
 ],
 "metadata": {
  "kernelspec": {
   "display_name": "pius310",
   "language": "python",
   "name": "python3"
  },
  "language_info": {
   "codemirror_mode": {
    "name": "ipython",
    "version": 3
   },
   "file_extension": ".py",
   "mimetype": "text/x-python",
   "name": "python",
   "nbconvert_exporter": "python",
   "pygments_lexer": "ipython3",
   "version": "3.10.9"
  },
  "orig_nbformat": 4,
  "vscode": {
   "interpreter": {
    "hash": "48ca3073c5549c1ccf4f4a58b2740315d5bce04ee37289cb933f5ff9b483ac6d"
   }
  }
 },
 "nbformat": 4,
 "nbformat_minor": 2
}
